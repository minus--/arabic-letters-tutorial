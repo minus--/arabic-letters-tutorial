{
 "cells": [
  {
   "cell_type": "code",
   "execution_count": 1,
   "metadata": {},
   "outputs": [],
   "source": [
    "import tensorflow as tf"
   ]
  },
  {
   "cell_type": "code",
   "execution_count": 2,
   "metadata": {},
   "outputs": [
    {
     "name": "stdout",
     "output_type": "stream",
     "text": [
      "Num GPUs Available:  1\n"
     ]
    }
   ],
   "source": [
    "print(\"Num GPUs Available: \", len(tf.config.experimental.list_physical_devices('GPU')))\n",
    "gpu = tf.config.experimental.list_physical_devices('GPU')\n",
    "tf.config.experimental.set_memory_growth(gpu[0], True)"
   ]
  },
  {
   "cell_type": "code",
   "execution_count": 3,
   "metadata": {},
   "outputs": [],
   "source": [
    "import numpy as np"
   ]
  },
  {
   "cell_type": "code",
   "execution_count": 4,
   "metadata": {},
   "outputs": [],
   "source": [
    "import pandas as pd"
   ]
  },
  {
   "cell_type": "code",
   "execution_count": 5,
   "metadata": {},
   "outputs": [],
   "source": [
    "from IPython.display import Image"
   ]
  },
  {
   "cell_type": "code",
   "execution_count": 6,
   "metadata": {},
   "outputs": [],
   "source": [
    "import os\n",
    "import matplotlib.pyplot as plt"
   ]
  },
  {
   "cell_type": "code",
   "execution_count": 7,
   "metadata": {},
   "outputs": [],
   "source": [
    "import numpy as np\n",
    "import os\n",
    "import PIL\n",
    "import PIL.Image\n",
    "import tensorflow as tf\n",
    "#import tensorflow_datasets as tfds\n",
    "import pathlib\n",
    "from pathlib import Path\n",
    "import datetime"
   ]
  },
  {
   "cell_type": "markdown",
   "metadata": {},
   "source": [
    "## Dive into the data"
   ]
  },
  {
   "cell_type": "code",
   "execution_count": 8,
   "metadata": {},
   "outputs": [
    {
     "data": {
      "image/png": "[encoded data removed]",
      "text/plain": [
       "<IPython.core.display.Image object>"
      ]
     },
     "execution_count": 8,
     "metadata": {
      "image/png": {
       "height": 32,
       "width": 32
      }
     },
     "output_type": "execute_result"
    }
   ],
   "source": [
    "Image(filename = \"data/test_data/id_10_label_5.png\", width = 32, height = 32)"
   ]
  },
  {
   "cell_type": "markdown",
   "metadata": {},
   "source": [
    "## A look at the folder content"
   ]
  },
  {
   "cell_type": "code",
   "execution_count": 9,
   "metadata": {},
   "outputs": [],
   "source": [
    "directory = \"./data/train_data\"\n",
    "images = os.listdir(directory)[0:12]"
   ]
  },
  {
   "cell_type": "code",
   "execution_count": 10,
   "metadata": {},
   "outputs": [
    {
     "data": {
      "text/plain": [
       "['id_2207_label_24.png',\n",
       " 'id_3835_label_4.png',\n",
       " 'id_11339_label_18.png',\n",
       " 'id_13198_label_26.png',\n",
       " 'id_3256_label_15.png',\n",
       " 'id_40_label_5.png',\n",
       " 'id_4101_label_9.png',\n",
       " 'id_7121_label_23.png',\n",
       " 'id_4808_label_13.png',\n",
       " 'id_3739_label_20.png',\n",
       " 'id_10171_label_12.png',\n",
       " 'id_154_label_20.png']"
      ]
     },
     "execution_count": 10,
     "metadata": {},
     "output_type": "execute_result"
    }
   ],
   "source": [
    "images"
   ]
  },
  {
   "cell_type": "markdown",
   "metadata": {},
   "source": [
    "## Displaying the data"
   ]
  },
  {
   "cell_type": "code",
   "execution_count": 11,
   "metadata": {},
   "outputs": [
    {
     "data": {
      "image/png": "[encoded data removed]",
      "text/plain": [
       "<Figure size 432x288 with 12 Axes>"
      ]
     },
     "metadata": {
      "needs_background": "light"
     },
     "output_type": "display_data"
    }
   ],
   "source": [
    "thumbs = [plt.imread(os.path.join(directory,i)) for x, i in enumerate(images)]\n",
    "\n",
    "fig, axes = plt.subplots(4, 3, sharex=True, sharey=True) \n",
    "\n",
    "for img, ax in zip(thumbs, axes.flat):\n",
    "    ax.imshow(img)\n",
    "    ax.axis('off')"
   ]
  },
  {
   "cell_type": "markdown",
   "metadata": {},
   "source": [
    "## Define the data dictionary"
   ]
  },
  {
   "cell_type": "code",
   "execution_count": 12,
   "metadata": {},
   "outputs": [],
   "source": [
    "arabic_characters = ['alef', 'beh', 'teh', 'theh', 'jeem', 'hah', 'khah', 'dal', 'thal',\n",
    "                    'reh', 'zain', 'seen', 'sheen', 'sad', 'dad', 'tah', 'zah', 'ain',\n",
    "                    'ghain', 'feh', 'qaf', 'kaf', 'lam', 'meem', 'noon', 'heh', 'waw', 'yeh']"
   ]
  },
  {
   "cell_type": "code",
   "execution_count": 13,
   "metadata": {},
   "outputs": [],
   "source": [
    "arabic_char_utf8 = (\"أ\",\"ب\",\"ت\",\"ث\",\"ج\",\"ح\",\"خ\",\"د\",\"ذ\",\"ر\",\"ز\",\"س\",\"ش\",\"ص\",\"ض\",\"ط\",\"ظ\",\"ع\",\"غ\",\"ف\",\"ق\",\"ك\",\"ل\",\"م\",\"ن\",\"ه\",\"و\",\"ي\")"
   ]
  },
  {
   "cell_type": "code",
   "execution_count": 14,
   "metadata": {},
   "outputs": [
    {
     "data": {
      "text/plain": [
       "28"
      ]
     },
     "execution_count": 14,
     "metadata": {},
     "output_type": "execute_result"
    }
   ],
   "source": [
    "len(arabic_characters)"
   ]
  },
  {
   "cell_type": "code",
   "execution_count": 15,
   "metadata": {},
   "outputs": [
    {
     "data": {
      "text/plain": [
       "'sheen'"
      ]
     },
     "execution_count": 15,
     "metadata": {},
     "output_type": "execute_result"
    }
   ],
   "source": [
    "arabic_characters[12]"
   ]
  },
  {
   "cell_type": "code",
   "execution_count": 16,
   "metadata": {},
   "outputs": [
    {
     "data": {
      "text/plain": [
       "'ش'"
      ]
     },
     "execution_count": 16,
     "metadata": {},
     "output_type": "execute_result"
    }
   ],
   "source": [
    "arabic_char_utf8[12]"
   ]
  },
  {
   "attachments": {
    "075d6eb3-995d-4838-8083-3dc9b3e9109c.png": {
     "image/png": "[encoded data removed]"
    }
   },
   "cell_type": "markdown",
   "metadata": {},
   "source": [
    "![image.png](attachment:075d6eb3-995d-4838-8083-3dc9b3e9109c.png)"
   ]
  },
  {
   "cell_type": "code",
   "execution_count": 17,
   "metadata": {},
   "outputs": [],
   "source": [
    "logdir = os.path.join(\"./logs\", datetime.datetime.now().strftime(\"%Y%m%d-%H%M%S\"))"
   ]
  },
  {
   "cell_type": "code",
   "execution_count": 18,
   "metadata": {},
   "outputs": [],
   "source": [
    "batch_size = 8\n",
    "img_height = 32\n",
    "img_width = 32\n",
    "\n",
    "def get_dataset(dataset_dir):\n",
    "    \n",
    "    def process_filename(file_path):\n",
    "        label = tf.strings.regex_replace(input=file_path,pattern=r\".+_label_(\\d+)\\.png\", rewrite=r\"\\1\")\n",
    "        label = tf.strings.to_number(label, tf.int32)\n",
    "        #label = tf.one_hot(label, depth=29)\n",
    "        return label\n",
    "\n",
    "    def process_img(file_path):\n",
    "\n",
    "        img = tf.io.read_file(file_path)\n",
    "        img = tf.image.decode_png(img, channels=3)\n",
    "        img = tf.image.resize(img, size=(32, 32))\n",
    "        img = tf.image.convert_image_dtype(img, tf.float32)\n",
    "        img = tf.cast(img, tf.float32) / 255.0\n",
    "        #img = tf.image.rgb_to_grayscale(img)\n",
    "        #img = tf.image.convert_image_dtype(img, tf.float32)\n",
    "        #img = tf.image.resize(img, size=(32, 32))\n",
    "        return img\n",
    "    \n",
    "    data_dir = pathlib.Path(dataset_dir)\n",
    "    file_list = [str(path.absolute()) for path in Path(data_dir).glob(\"*.png\")]\n",
    "    files_ds = tf.data.Dataset.from_tensor_slices((file_list))\n",
    "    files_ds = files_ds.map(lambda x: (process_img(x), process_filename(x)))\n",
    "    return files_ds"
   ]
  },
  {
   "cell_type": "code",
   "execution_count": 19,
   "metadata": {},
   "outputs": [],
   "source": [
    "train_dataset_path = \"data/train_data\"\n",
    "test_dataset_path = \"data/test_data\"\n",
    "\n",
    "train_ds = get_dataset(train_dataset_path).shuffle(buffer_size=batch_size*10).batch(batch_size)\n",
    "valid_ds = get_dataset(test_dataset_path).batch(batch_size)"
   ]
  },
  {
   "cell_type": "code",
   "execution_count": 20,
   "metadata": {},
   "outputs": [],
   "source": [
    "VGG16_MODEL=tf.keras.applications.VGG16(input_shape=(32,32,3),\n",
    "                                        input_tensor=None,\n",
    "                                        include_top=False,\n",
    "                                        weights='imagenet')\n",
    "VGG16_MODEL.trainable=False\n",
    "\n",
    "# VGG16_MODEL.trainable = True\n",
    "# # Fine-tune from this layer onwards\n",
    "# fine_tune_at = 100\n",
    "\n",
    "# # Freeze all the layers before the `fine_tune_at` layer\n",
    "# for layer in VGG16_MODEL.layers[:fine_tune_at]:\n",
    "#   layer.trainable =  False\n",
    "\n",
    "global_average_layer = tf.keras.layers.GlobalAveragePooling2D()\n",
    "prediction_layer = tf.keras.layers.Dense(29,activation='softmax')\n",
    "\n",
    "model = tf.keras.Sequential([\n",
    "  VGG16_MODEL,\n",
    "  global_average_layer,\n",
    "  prediction_layer\n",
    "])\n",
    "\n"
   ]
  },
  {
   "cell_type": "code",
   "execution_count": 21,
   "metadata": {},
   "outputs": [
    {
     "name": "stdout",
     "output_type": "stream",
     "text": [
      "Model: \"sequential\"\n",
      "_________________________________________________________________\n",
      "Layer (type)                 Output Shape              Param #   \n",
      "=================================================================\n",
      "vgg16 (Functional)           (None, 1, 1, 512)         14714688  \n",
      "_________________________________________________________________\n",
      "global_average_pooling2d (Gl (None, 512)               0         \n",
      "_________________________________________________________________\n",
      "dense (Dense)                (None, 29)                14877     \n",
      "=================================================================\n",
      "Total params: 14,729,565\n",
      "Trainable params: 14,877\n",
      "Non-trainable params: 14,714,688\n",
      "_________________________________________________________________\n"
     ]
    }
   ],
   "source": [
    "model.summary()\n"
   ]
  },
  {
   "cell_type": "code",
   "execution_count": 22,
   "metadata": {},
   "outputs": [],
   "source": [
    "model.compile(\n",
    "    optimizer=tf.keras.optimizers.Adam(),  # Optimizer\n",
    "    # Loss function to minimize\n",
    "    loss=tf.keras.losses.SparseCategoricalCrossentropy(from_logits=True),\n",
    "    # List of metrics to monitor\n",
    "    metrics=[tf.keras.metrics.SparseCategoricalAccuracy()],\n",
    ")"
   ]
  },
  {
   "cell_type": "code",
   "execution_count": 23,
   "metadata": {},
   "outputs": [],
   "source": [
    "# callbacks = [\n",
    "#     tf.keras.callbacks.EarlyStopping(\n",
    "#         # Stop training when `val_loss` is no longer improving\n",
    "#         monitor=\"val_loss\",\n",
    "#         # \"no longer improving\" being defined as \"no better than 1e-2 less\"\n",
    "#         min_delta=1e-2,\n",
    "#         # \"no longer improving\" being further defined as \"for at least 2 epochs\"\n",
    "#         patience=2,\n",
    "#         verbose=1,\n",
    "#     )\n",
    "# ]\n",
    "callbacks = [\n",
    "    tf.keras.callbacks.TensorBoard(\n",
    "        log_dir=logdir,\n",
    "        histogram_freq=0,  # How often to log histogram visualizations\n",
    "        embeddings_freq=0,  # How often to log embedding visualizations\n",
    "        update_freq=\"epoch\",\n",
    "    ) \n",
    "]"
   ]
  },
  {
   "cell_type": "code",
   "execution_count": 24,
   "metadata": {},
   "outputs": [
    {
     "name": "stdout",
     "output_type": "stream",
     "text": [
      "Fit model on training data\n",
      "Epoch 1/50\n",
      "   1/1680 [..............................] - ETA: 0s - loss: 3.3796 - sparse_categorical_accuracy: 0.0000e+00WARNING:tensorflow:From /home/amine/miniconda3/envs/gpu/lib/python3.7/site-packages/tensorflow/python/ops/summary_ops_v2.py:1277: stop (from tensorflow.python.eager.profiler) is deprecated and will be removed after 2020-07-01.\n",
      "Instructions for updating:\n",
      "use `tf.profiler.experimental.stop` instead.\n",
      "WARNING:tensorflow:Callbacks method `on_train_batch_end` is slow compared to the batch time (batch time: 0.0089s vs `on_train_batch_end` time: 0.0179s). Check your callbacks.\n",
      "1680/1680 [==============================] - 16s 10ms/step - loss: 3.1863 - sparse_categorical_accuracy: 0.3126 - val_loss: 3.0812 - val_sparse_categorical_accuracy: 0.4405\n",
      "Epoch 2/50\n",
      "1680/1680 [==============================] - 16s 10ms/step - loss: 3.0390 - sparse_categorical_accuracy: 0.4693 - val_loss: 3.0083 - val_sparse_categorical_accuracy: 0.4887\n",
      "Epoch 3/50\n",
      "1680/1680 [==============================] - 16s 10ms/step - loss: 2.9838 - sparse_categorical_accuracy: 0.5107 - val_loss: 2.9738 - val_sparse_categorical_accuracy: 0.5116\n",
      "Epoch 4/50\n",
      "1680/1680 [==============================] - 17s 10ms/step - loss: 2.9564 - sparse_categorical_accuracy: 0.5272 - val_loss: 2.9522 - val_sparse_categorical_accuracy: 0.5250\n",
      "Epoch 5/50\n",
      "1680/1680 [==============================] - 16s 10ms/step - loss: 2.9327 - sparse_categorical_accuracy: 0.5495 - val_loss: 2.9243 - val_sparse_categorical_accuracy: 0.5560\n",
      "Epoch 6/50\n",
      "1680/1680 [==============================] - 16s 10ms/step - loss: 2.9072 - sparse_categorical_accuracy: 0.5755 - val_loss: 2.9069 - val_sparse_categorical_accuracy: 0.5670\n",
      "Epoch 7/50\n",
      "1680/1680 [==============================] - 16s 10ms/step - loss: 2.8920 - sparse_categorical_accuracy: 0.5859 - val_loss: 2.8956 - val_sparse_categorical_accuracy: 0.5774\n",
      "Epoch 8/50\n",
      "1680/1680 [==============================] - 16s 10ms/step - loss: 2.8767 - sparse_categorical_accuracy: 0.5993 - val_loss: 2.8819 - val_sparse_categorical_accuracy: 0.5902\n",
      "Epoch 9/50\n",
      "1680/1680 [==============================] - 17s 10ms/step - loss: 2.8639 - sparse_categorical_accuracy: 0.6135 - val_loss: 2.8730 - val_sparse_categorical_accuracy: 0.5979\n",
      "Epoch 10/50\n",
      "1680/1680 [==============================] - 16s 10ms/step - loss: 2.8541 - sparse_categorical_accuracy: 0.6202 - val_loss: 2.8618 - val_sparse_categorical_accuracy: 0.6071\n",
      "Epoch 11/50\n",
      "1680/1680 [==============================] - 17s 10ms/step - loss: 2.8385 - sparse_categorical_accuracy: 0.6370 - val_loss: 2.8498 - val_sparse_categorical_accuracy: 0.6226\n",
      "Epoch 12/50\n",
      "1680/1680 [==============================] - 17s 10ms/step - loss: 2.8277 - sparse_categorical_accuracy: 0.6478 - val_loss: 2.8409 - val_sparse_categorical_accuracy: 0.6274\n",
      "Epoch 13/50\n",
      "1680/1680 [==============================] - 17s 10ms/step - loss: 2.8197 - sparse_categorical_accuracy: 0.6558 - val_loss: 2.8337 - val_sparse_categorical_accuracy: 0.6351\n",
      "Epoch 14/50\n",
      "1680/1680 [==============================] - 17s 10ms/step - loss: 2.8124 - sparse_categorical_accuracy: 0.6616 - val_loss: 2.8283 - val_sparse_categorical_accuracy: 0.6372\n",
      "Epoch 15/50\n",
      "1680/1680 [==============================] - 17s 10ms/step - loss: 2.8063 - sparse_categorical_accuracy: 0.6657 - val_loss: 2.8228 - val_sparse_categorical_accuracy: 0.6420\n",
      "Epoch 16/50\n",
      "1680/1680 [==============================] - 17s 10ms/step - loss: 2.8008 - sparse_categorical_accuracy: 0.6704 - val_loss: 2.8186 - val_sparse_categorical_accuracy: 0.6470\n",
      "Epoch 17/50\n",
      "1680/1680 [==============================] - 17s 10ms/step - loss: 2.7957 - sparse_categorical_accuracy: 0.6745 - val_loss: 2.8133 - val_sparse_categorical_accuracy: 0.6527\n",
      "Epoch 18/50\n",
      "1680/1680 [==============================] - 17s 10ms/step - loss: 2.7895 - sparse_categorical_accuracy: 0.6809 - val_loss: 2.8090 - val_sparse_categorical_accuracy: 0.6545\n",
      "Epoch 19/50\n",
      "1680/1680 [==============================] - 16s 10ms/step - loss: 2.7836 - sparse_categorical_accuracy: 0.6869 - val_loss: 2.8051 - val_sparse_categorical_accuracy: 0.6601\n",
      "Epoch 20/50\n",
      "1680/1680 [==============================] - 17s 10ms/step - loss: 2.7786 - sparse_categorical_accuracy: 0.6917 - val_loss: 2.8015 - val_sparse_categorical_accuracy: 0.6622\n",
      "Epoch 21/50\n",
      "1680/1680 [==============================] - 16s 10ms/step - loss: 2.7744 - sparse_categorical_accuracy: 0.6954 - val_loss: 2.7983 - val_sparse_categorical_accuracy: 0.6619\n",
      "Epoch 22/50\n",
      "1680/1680 [==============================] - 17s 10ms/step - loss: 2.7705 - sparse_categorical_accuracy: 0.6996 - val_loss: 2.7948 - val_sparse_categorical_accuracy: 0.6661\n",
      "Epoch 23/50\n",
      "1680/1680 [==============================] - 17s 10ms/step - loss: 2.7670 - sparse_categorical_accuracy: 0.7014 - val_loss: 2.7914 - val_sparse_categorical_accuracy: 0.6696\n",
      "Epoch 24/50\n",
      "1680/1680 [==============================] - 17s 10ms/step - loss: 2.7635 - sparse_categorical_accuracy: 0.7044 - val_loss: 2.7895 - val_sparse_categorical_accuracy: 0.6687\n",
      "Epoch 25/50\n",
      "1680/1680 [==============================] - 17s 10ms/step - loss: 2.7580 - sparse_categorical_accuracy: 0.7100 - val_loss: 2.7805 - val_sparse_categorical_accuracy: 0.6824\n",
      "Epoch 26/50\n",
      "1680/1680 [==============================] - 17s 10ms/step - loss: 2.7515 - sparse_categorical_accuracy: 0.7177 - val_loss: 2.7753 - val_sparse_categorical_accuracy: 0.6884\n",
      "Epoch 27/50\n",
      "1680/1680 [==============================] - 17s 10ms/step - loss: 2.7478 - sparse_categorical_accuracy: 0.7208 - val_loss: 2.7736 - val_sparse_categorical_accuracy: 0.6905\n",
      "Epoch 28/50\n",
      "1680/1680 [==============================] - 17s 10ms/step - loss: 2.7444 - sparse_categorical_accuracy: 0.7223 - val_loss: 2.7702 - val_sparse_categorical_accuracy: 0.6932\n",
      "Epoch 29/50\n",
      "1680/1680 [==============================] - 17s 10ms/step - loss: 2.7414 - sparse_categorical_accuracy: 0.7254 - val_loss: 2.7681 - val_sparse_categorical_accuracy: 0.6976\n",
      "Epoch 30/50\n",
      "1680/1680 [==============================] - 17s 10ms/step - loss: 2.7388 - sparse_categorical_accuracy: 0.7253 - val_loss: 2.7655 - val_sparse_categorical_accuracy: 0.6979\n",
      "Epoch 31/50\n",
      "1680/1680 [==============================] - 17s 10ms/step - loss: 2.7360 - sparse_categorical_accuracy: 0.7291 - val_loss: 2.7637 - val_sparse_categorical_accuracy: 0.6976\n",
      "Epoch 32/50\n",
      "1680/1680 [==============================] - 17s 10ms/step - loss: 2.7338 - sparse_categorical_accuracy: 0.7318 - val_loss: 2.7615 - val_sparse_categorical_accuracy: 0.6976\n",
      "Epoch 33/50\n",
      "1680/1680 [==============================] - 17s 10ms/step - loss: 2.7312 - sparse_categorical_accuracy: 0.7333 - val_loss: 2.7598 - val_sparse_categorical_accuracy: 0.7003\n",
      "Epoch 34/50\n",
      "1680/1680 [==============================] - 17s 10ms/step - loss: 2.7293 - sparse_categorical_accuracy: 0.7344 - val_loss: 2.7573 - val_sparse_categorical_accuracy: 0.7018\n",
      "Epoch 35/50\n",
      "1680/1680 [==============================] - 17s 10ms/step - loss: 2.7270 - sparse_categorical_accuracy: 0.7360 - val_loss: 2.7558 - val_sparse_categorical_accuracy: 0.7033\n",
      "Epoch 36/50\n",
      "1680/1680 [==============================] - 17s 10ms/step - loss: 2.7252 - sparse_categorical_accuracy: 0.7380 - val_loss: 2.7545 - val_sparse_categorical_accuracy: 0.7039\n",
      "Epoch 37/50\n",
      "1680/1680 [==============================] - 17s 10ms/step - loss: 2.7233 - sparse_categorical_accuracy: 0.7407 - val_loss: 2.7525 - val_sparse_categorical_accuracy: 0.7045\n",
      "Epoch 38/50\n",
      "1680/1680 [==============================] - 17s 10ms/step - loss: 2.7213 - sparse_categorical_accuracy: 0.7419 - val_loss: 2.7513 - val_sparse_categorical_accuracy: 0.7074\n",
      "Epoch 39/50\n",
      "1680/1680 [==============================] - 17s 10ms/step - loss: 2.7195 - sparse_categorical_accuracy: 0.7444 - val_loss: 2.7504 - val_sparse_categorical_accuracy: 0.7071\n",
      "Epoch 40/50\n",
      "1680/1680 [==============================] - 17s 10ms/step - loss: 2.7180 - sparse_categorical_accuracy: 0.7461 - val_loss: 2.7483 - val_sparse_categorical_accuracy: 0.7095\n",
      "Epoch 41/50\n",
      "1680/1680 [==============================] - 17s 10ms/step - loss: 2.7162 - sparse_categorical_accuracy: 0.7465 - val_loss: 2.7476 - val_sparse_categorical_accuracy: 0.7080\n",
      "Epoch 42/50\n",
      "1680/1680 [==============================] - 17s 10ms/step - loss: 2.7146 - sparse_categorical_accuracy: 0.7480 - val_loss: 2.7460 - val_sparse_categorical_accuracy: 0.7095\n",
      "Epoch 43/50\n",
      "1680/1680 [==============================] - 17s 10ms/step - loss: 2.7128 - sparse_categorical_accuracy: 0.7487 - val_loss: 2.7451 - val_sparse_categorical_accuracy: 0.7095\n",
      "Epoch 44/50\n",
      "1680/1680 [==============================] - 17s 10ms/step - loss: 2.7116 - sparse_categorical_accuracy: 0.7504 - val_loss: 2.7440 - val_sparse_categorical_accuracy: 0.7101\n",
      "Epoch 45/50\n",
      "1680/1680 [==============================] - 17s 10ms/step - loss: 2.7100 - sparse_categorical_accuracy: 0.7513 - val_loss: 2.7421 - val_sparse_categorical_accuracy: 0.7104\n",
      "Epoch 46/50\n",
      "1680/1680 [==============================] - 17s 10ms/step - loss: 2.7087 - sparse_categorical_accuracy: 0.7524 - val_loss: 2.7421 - val_sparse_categorical_accuracy: 0.7119\n",
      "Epoch 47/50\n",
      "1680/1680 [==============================] - 17s 10ms/step - loss: 2.7075 - sparse_categorical_accuracy: 0.7519 - val_loss: 2.7412 - val_sparse_categorical_accuracy: 0.7110\n",
      "Epoch 48/50\n",
      "1680/1680 [==============================] - 17s 10ms/step - loss: 2.7062 - sparse_categorical_accuracy: 0.7541 - val_loss: 2.7401 - val_sparse_categorical_accuracy: 0.7107\n",
      "Epoch 49/50\n",
      "1680/1680 [==============================] - 17s 10ms/step - loss: 2.7048 - sparse_categorical_accuracy: 0.7548 - val_loss: 2.7395 - val_sparse_categorical_accuracy: 0.7122\n",
      "Epoch 50/50\n",
      "1680/1680 [==============================] - 17s 10ms/step - loss: 2.7036 - sparse_categorical_accuracy: 0.7570 - val_loss: 2.7384 - val_sparse_categorical_accuracy: 0.7137\n"
     ]
    }
   ],
   "source": [
    "print(\"Fit model on training data\")\n",
    "history = model.fit(train_ds, epochs = 50, validation_data=valid_ds, callbacks = callbacks)\n"
   ]
  },
  {
   "cell_type": "code",
   "execution_count": 25,
   "metadata": {},
   "outputs": [],
   "source": [
    "%load_ext tensorboard"
   ]
  },
  {
   "cell_type": "code",
   "execution_count": 26,
   "metadata": {},
   "outputs": [
    {
     "data": {
      "text/plain": [
       "'./logs/20201001-194525'"
      ]
     },
     "execution_count": 26,
     "metadata": {},
     "output_type": "execute_result"
    }
   ],
   "source": [
    "logdir"
   ]
  },
  {
   "cell_type": "code",
   "execution_count": 27,
   "metadata": {},
   "outputs": [
    {
     "data": {
      "text/html": [
       "\n",
       "      <iframe id=\"tensorboard-frame-2cab360c568fcf1a\" width=\"100%\" height=\"800\" frameborder=\"0\">\n",
       "      </iframe>\n",
       "      <script>\n",
       "        (function() {\n",
       "          const frame = document.getElementById(\"tensorboard-frame-2cab360c568fcf1a\");\n",
       "          const url = new URL(\"/\", window.location);\n",
       "          const port = 6008;\n",
       "          if (port) {\n",
       "            url.port = port;\n",
       "          }\n",
       "          frame.src = url;\n",
       "        })();\n",
       "      </script>\n",
       "    "
      ],
      "text/plain": [
       "<IPython.core.display.HTML object>"
      ]
     },
     "metadata": {},
     "output_type": "display_data"
    }
   ],
   "source": [
    "%tensorboard --logdir $logdir"
   ]
  },
  {
   "cell_type": "code",
   "execution_count": null,
   "metadata": {},
   "outputs": [],
   "source": []
  }
 ],
 "metadata": {
  "kernelspec": {
   "display_name": "Python 3",
   "language": "python",
   "name": "python3"
  },
  "language_info": {
   "codemirror_mode": {
    "name": "ipython",
    "version": 3
   },
   "file_extension": ".py",
   "mimetype": "text/x-python",
   "name": "python",
   "nbconvert_exporter": "python",
   "pygments_lexer": "ipython3",
   "version": "3.7.9"
  }
 },
 "nbformat": 4,
 "nbformat_minor": 4
}
