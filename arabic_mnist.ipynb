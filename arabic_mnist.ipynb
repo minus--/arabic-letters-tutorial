{
 "cells": [
  {
   "cell_type": "code",
   "execution_count": 2,
   "metadata": {},
   "outputs": [],
   "source": [
    "# Python packages to manipulate files\n",
    "import os\n",
    "import pathlib\n",
    "from pathlib import Path\n",
    "import datetime\n",
    "# Tensorflow and Numpy packages\n",
    "import tensorflow as tf\n",
    "import numpy as np\n",
    "\n",
    "# Display related packages\n",
    "import matplotlib.pyplot as plt\n",
    "import matplotlib.image as mpimg\n",
    "from IPython.display import Image\n",
    "import PIL\n",
    "import PIL.Image\n",
    "\n",
    "%matplotlib inline\n"
   ]
  },
  {
   "source": [
    "### Check available compute capabilities\n",
    "If you have a GPU uncomment the last line to check that your Tensorflow installation supports GPU"
   ],
   "cell_type": "markdown",
   "metadata": {}
  },
  {
   "cell_type": "code",
   "execution_count": 3,
   "metadata": {},
   "outputs": [],
   "source": [
    "my_devices = tf.config.experimental.list_physical_devices(device_type='CPU')\n",
    "tf.config.experimental.set_visible_devices(devices= my_devices, device_type='CPU')\n",
    "# #tf.config.set_visible_devices([], 'GPU')"
   ]
  },
  {
   "source": [
    "Uncomment these lines if you want to uncompress the image dataset."
   ],
   "cell_type": "markdown",
   "metadata": {}
  },
  {
   "cell_type": "code",
   "execution_count": 4,
   "metadata": {},
   "outputs": [],
   "source": [
    "# [ ! -d ./data ] && tar xvzf ./arabic_handwritten_data.tgz || echo \"Dataset folder already exists\""
   ]
  },
  {
   "cell_type": "markdown",
   "metadata": {},
   "source": [
    "### Dive into the data\n",
    "We open a random file from the dataset and display it.\n",
    "\n",
    "You can see that it contains a handwritten arabic letter. "
   ]
  },
  {
   "cell_type": "code",
   "execution_count": 5,
   "metadata": {},
   "outputs": [
    {
     "output_type": "execute_result",
     "data": {
      "image/png": "[encoded data removed]",
      "text/plain": [
       "<IPython.core.display.Image object>"
      ]
     },
     "metadata": {
      "image/png": {
       "width": 32,
       "height": 32
      }
     },
     "execution_count": 5
    }
   ],
   "source": [
    "Image(filename = \"data/test_data/id_10_label_5.png\", width = 32, height = 32)"
   ]
  },
  {
   "cell_type": "markdown",
   "metadata": {},
   "source": [
    "### A look at the folder content\n",
    "We list the files inside each folder and we can see that we have thousands of png files that have a similar naming pattern.\n",
    "We can guess the letter to which the image belongs through the file name. \n",
    "We pick a random set of files and display their names."
   ]
  },
  {
   "cell_type": "code",
   "execution_count": 6,
   "metadata": {},
   "outputs": [],
   "source": [
    "directory = \"./data/train_data/\"\n",
    "images = os.listdir(directory)"
   ]
  },
  {
   "cell_type": "code",
   "execution_count": 7,
   "metadata": {},
   "outputs": [
    {
     "output_type": "execute_result",
     "data": {
      "text/plain": [
       "['id_2207_label_24.png',\n",
       " 'id_3835_label_4.png',\n",
       " 'id_11339_label_18.png',\n",
       " 'id_13198_label_26.png',\n",
       " 'id_3256_label_15.png',\n",
       " 'id_40_label_5.png',\n",
       " 'id_4101_label_9.png',\n",
       " 'id_7121_label_23.png',\n",
       " 'id_4808_label_13.png',\n",
       " 'id_3739_label_20.png',\n",
       " 'id_10171_label_12.png',\n",
       " 'id_154_label_20.png']"
      ]
     },
     "metadata": {},
     "execution_count": 7
    }
   ],
   "source": [
    "images[0:12]"
   ]
  },
  {
   "cell_type": "markdown",
   "metadata": {},
   "source": [
    "### Displaying the data\n",
    "We pick 12 images and display them in a grid using matplotlib."
   ]
  },
  {
   "cell_type": "code",
   "execution_count": 8,
   "metadata": {},
   "outputs": [
    {
     "output_type": "display_data",
     "data": {
      "text/plain": "<Figure size 576x576 with 16 Axes>",
      "image/svg+xml": "<?xml version=\"1.0\" encoding=\"utf-8\" standalone=\"no\"?>\n<!DOCTYPE svg PUBLIC \"-//W3C//DTD SVG 1.1//EN\"\n  \"http://www.w3.org/Graphics/SVG/1.1/DTD/svg11.dtd\">\n<!-- Created with matplotlib (https://matplotlib.org/) -->\n<svg height=\"449.28pt\" version=\"1.1\" viewBox=\"0 0 458.295652 449.28\" width=\"458.295652pt\" xmlns=\"http://www.w3.org/2000/svg\" xmlns:xlink=\"http://www.w3.org/1999/xlink\">\n <metadata>\n  <rdf:RDF xmlns:cc=\"http://creativecommons.org/ns#\" xmlns:dc=\"http://purl.org/dc/elements/1.1/\" xmlns:rdf=\"http://www.w3.org/1999/02/22-rdf-syntax-ns#\">\n   <cc:Work>\n    <dc:type rdf:resource=\"http://purl.org/dc/dcmitype/StillImage\"/>\n    <dc:date>2020-10-25T18:54:00.696356</dc:date>\n    <dc:format>image/svg+xml</dc:format>\n    <dc:creator>\n     <cc:Agent>\n      <dc:title>Matplotlib v3.3.2, https://matplotlib.org/</dc:title>\n     </cc:Agent>\n    </dc:creator>\n   </cc:Work>\n  </rdf:RDF>\n </metadata>\n <defs>\n  <style type=\"text/css\">*{stroke-linecap:butt;stroke-linejoin:round;}</style>\n </defs>\n <g id=\"figure_1\">\n  <g id=\"patch_1\">\n   <path d=\"M 0 449.28 \nL 458.295652 449.28 \nL 458.295652 0 \nL 0 0 \nz\n\" style=\"fill:none;\"/>\n  </g>\n  <g id=\"axes_1\">\n   <g clip-path=\"url(#pab65fb4401)\">\n    <image height=\"95\" id=\"imagecb30e6e4ca\" transform=\"scale(1 -1)translate(0 -95)\" width=\"95\" x=\"7.2\" xlink:href=\"data:image/png;base64,\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\" y=\"-6.73913\"/>\n   </g>\n  </g>\n  <g id=\"axes_2\">\n   <g clip-path=\"url(#pc73dc63255)\">\n    <image height=\"95\" id=\"image0434b2d995\" transform=\"scale(1 -1)translate(0 -95)\" width=\"95\" x=\"123.652174\" xlink:href=\"data:image/png;base64,\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\" y=\"-6.73913\"/>\n   </g>\n  </g>\n  <g id=\"axes_3\">\n   <g clip-path=\"url(#pc90e9075cd)\">\n    <image height=\"95\" id=\"image8f8d24c9ba\" transform=\"scale(1 -1)translate(0 -95)\" width=\"95\" x=\"240.104348\" xlink:href=\"data:image/png;base64,\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\" y=\"-6.73913\"/>\n   </g>\n  </g>\n  <g id=\"axes_4\">\n   <g clip-path=\"url(#pf89e0b14e8)\">\n    <image height=\"95\" id=\"imagea1dc75f2ac\" transform=\"scale(1 -1)translate(0 -95)\" width=\"95\" x=\"356.556522\" xlink:href=\"data:image/png;base64,\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\" y=\"-6.73913\"/>\n   </g>\n  </g>\n  <g id=\"axes_5\">\n   <g clip-path=\"url(#p8874b07f61)\">\n    <image height=\"95\" id=\"imagecea0cd3a53\" transform=\"scale(1 -1)translate(0 -95)\" width=\"95\" x=\"7.2\" xlink:href=\"data:image/png;base64,\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\" y=\"-120.186087\"/>\n   </g>\n  </g>\n  <g id=\"axes_6\">\n   <g clip-path=\"url(#p2b8e72a1e8)\">\n    <image height=\"95\" id=\"image65349cf865\" transform=\"scale(1 -1)translate(0 -95)\" width=\"95\" x=\"123.652174\" xlink:href=\"data:image/png;base64,\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\" y=\"-120.186087\"/>\n   </g>\n  </g>\n  <g id=\"axes_7\">\n   <g clip-path=\"url(#p81ccc7f750)\">\n    <image height=\"95\" id=\"image712fd48843\" transform=\"scale(1 -1)translate(0 -95)\" width=\"95\" x=\"240.104348\" xlink:href=\"data:image/png;base64,\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\" y=\"-120.186087\"/>\n   </g>\n  </g>\n  <g id=\"axes_8\">\n   <g clip-path=\"url(#p4df7d96c4b)\">\n    <image height=\"95\" id=\"imagec9c28f4058\" transform=\"scale(1 -1)translate(0 -95)\" width=\"95\" x=\"356.556522\" xlink:href=\"data:image/png;base64,\niVBORw0KGgoAAAANSUhEUgAAAF8AAABfCAYAAACOTBv1AAAFYUlEQVR4nO3dT2wUVRzA8e+bmd0p22m3tqVFqNoIguVPGqAChhiUkIgm6IXEEI0mxgSN0YOJiXcTEw9yJvFgY9REjTFe8GI84AXBUv5IkYAg1PKvtFt2t7vdnT/PA0qRtIRqO79h+z7Hdrbv9dvNm9mZ2a3apnZqDBGW9ATmMxNfkIkvyMQXZOILMvEFmfiCTHxBJr4gE1+QiS/IxBdk4gsy8QWZ+IJMfEEmviATX5CJL8jEF2TiC3KkJ/AvSqFsO/ZhdRiCjv8mjsTEV44Da7u41u0RLFCxjZsqalr7rxMdOwVRGNu4kKT4rsvFzQ088WIfPQ3nYhv3x9yjnOhdxcKTDroyT+NjWVSbYGfzIZ5cEMU2bJNdoq95NZbrEkUaHfixLUHJiS+k0xlBr88zuHs1bk7T2pdHHxmI5Q8w7+MvTyl613/C2TVt7Btdw4BaReuvKbRfnfOx5eNbNirloOrqiGyNpeJbcgAyVpoNLmxwc8BxjjSujm1s0fjKcdA9K7my3qPSBNl1wyyyx4F6yWnFRjZ+Os2ljR5PvXyQrY0DdKZGechJS04pVrLLjlL4HmzPHmd7pgLUiU4nbub0giATX5D80c4MlaIqFR0QMvVxuI0iY6VwVSrmmc3cPRX/elTmg+HH+fa3boLK1FN36nx2dfXxbksfnpXsfcg9FX80DPmqv4dHPvZxruWm3MZvb+Sz3Rt4fcvPeAlfVO+J+KWoSlH7DIYe9qhD6twgweUrU26bLi9B5zo4HywAije/biuFp1JkrOQcyiY+fjGa4P3hTXwzsJYol6a9D3SpPO32ulhk4SGLXc4bkJ58texkAl5adZD3Wo8mZn+Q+PhjUcDXx9axbG9I6uJFdL5IWChMu32YL9Ky7xStP3mgJq8LVDua+fzNHt7e/AuubeLflQjQ4w6pwSsEfw7dxQNCwpFRGBkFpbBcF1Xn4mTrCQN32qMkCYmP/3/YDQ0UtnUx3G1TbQ7ZvuIomYQsOVDj8VW2kaEtij3PfkqnM8JiJyBjJeeknWx8rbF9+KPayrnUKZosi0arDlvN0jGibaHrAza6l7nf8QB3dn7uLBE9EtZ+QOsxnz3fPcfW799h9/kdXApLklOKlegzX/tV6vafYFm/B9kG+l9bzvnFGTpqejGcJP5rRqUSlEpYpTLpXDsnKh0stE/f/P5ZvwVrwpqza6qhjhiJyoxFcLayAmvurx7eJB7/H3qiQlu/z0f1z/OhNxnaqioWHYrQheIdHv3f/R6UeevMC5weWII7YrPk+MSNm6hikJz4fy9BS/vqUfbkrkhrjS6VCYtzE/+038KF/Q/S1TuILk2gCwWimG6eSkx8mFyC4jQRpXHKEF6+iq5UYh074ef9apuJLyhRy86sUAq7oQFVnyFoy2LVhdgqvhtvZ6Lm4tvZRnLPdHH1MYju89m58jBegs7n3Krm4ivP48om6N2xl4edIk2WQyahlxNrLj5Kod2ITqdIh+NJz+aOzA5XkIkvqPaWnbvg65ALQZmh0ONAcSmO0InUeRn/jF/h1ZOvMNrXhptTLDo8jvaD2OcxL+MPBlnGDrSzdO8ZdHEcXamgY34zHMzT+D42lg+6ULxxPkmI2eEKMvEFmfiCTHxBJr4gE1+QiS/IxBdUey+ygoDUqM2X+W4Wp8am3GT/9eWk80AU77vdb1dz8aN8gQd+qPLF0NNE01zASo1r2vvzRFU/3sndRtXk/8my7Dt/YpWOxD5d6lY198wHIApFTpTNlNnhCjLxBZn4gkx8QSa+IBNfkIkvyMQXZOILMvEFmfiCTHxBJr4gE1+QiS/IxBdk4gsy8QWZ+IJMfEEmvqC/AO7hszS/uzwaAAAAAElFTkSuQmCC\" y=\"-120.186087\"/>\n   </g>\n  </g>\n  <g id=\"axes_9\">\n   <g clip-path=\"url(#p631dea16f1)\">\n    <image height=\"95\" id=\"imagebea6577821\" transform=\"scale(1 -1)translate(0 -95)\" width=\"95\" x=\"7.2\" xlink:href=\"data:image/png;base64,\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\" y=\"-233.633043\"/>\n   </g>\n  </g>\n  <g id=\"axes_10\">\n   <g clip-path=\"url(#p408f21e58e)\">\n    <image height=\"95\" id=\"image1bd8d0e09b\" transform=\"scale(1 -1)translate(0 -95)\" width=\"95\" x=\"123.652174\" xlink:href=\"data:image/png;base64,\niVBORw0KGgoAAAANSUhEUgAAAF8AAABfCAYAAACOTBv1AAAGAUlEQVR4nO3cT2wc1R3A8e+b2Zn94904G/+pDQnFDlJwqYGkjgS4QkhFVEqFkCIqIbUNggMXaK7QS89w4Fj+K4gDUlAr9VD+XFBFhEAl0LhpgBCTCEJL/the2/vXuzs77/VgFFG0ib0w49968z7H1czO83dHb0ZvRlZ3q/sNlghHegBXMxtfkI0vyMYXZOMLsvEF2fiCbHxBNr4gG1+QjS/Ixhdk4wuy8QXZ+IJsfEE2viAbX1BCegCXpRQo4XPDaDDxPWXtyvgqkYDdExQms7RSSmQMftkwcGyR8NPZ2H6A7oyfTvP1nTl+/sAxbu77j8gY3pyf5MKhMbadcjGtVizHiDf+N1OHcjo7e1XSpz5gODDwHrel3JgGd2UZp8HT28ZRvo/RJpYpKL74SuFM7qKwJ08z11n8MAm5yQWG3BUgG8/41rDTn6O6t8Y5fSupJcPAP6OfgmKLr1yXhak8Yw/Psm/wREf7eirkRv882xPJmEa3tlv8Jq/cdogze4b5y8UpLpoxtp50wISRHSP6+EqhXBeVTNLIK+4b+he/yRW+xxf5kQ+tE1knxXQKplML1PQJns+NR36MaON/M9XM783TyCuaeyvs9OYAmXm720Uc36GwO8/4Q7PsHzrG9d4CP/UDbPz2Io2vHEWQVfxy4BMeyC2xGj3a8IEJaZhg3dsnlYenuvPH78r7/Mup6DpPF/bw5zO7aTbWHnoq3eR3Nxzl0a0nyTiy15B2NlX8+bDFKzO3s/NljbdQW3P7xkiWlx6Z5sE7/k1G+ALejkj8wITUTLPj/eZ1ErXo4Z/6gtaFi2tun6peR7M8TBjj+swPseHxAxPy3PI4L8xOU6t0dh+v6wmGZxSmthLT6DbWhsdvmICXPr+DwecypL9c7mxnrWGpSFipxjK2jRZpfKMNKjQshn0shO0DFbWhXExz7ZfLhKdOR3n4TSfaM99o8p83ef6te3h26K72m4SK/IceqliO9NCbUcTxDf7RWXadyWO8y3y1MVCuEhYWIz30ZhT5nK/LZXS5S85qYyBwOBf6uKpKVnnrvt8PjaZiGtR0yMWgH6cV/R3TprrP75QpVRj6h8v9PEaiv8lvbzrKE4PHSSpvzX1ngzqPn93PidPb8eY8rpttrK7pR6in44fFEoOvn2LoSJbmjgFefXSKg9MfkXTXjn+iOcrpt8eZOHwBtdJALy2jN83DlG6gw9VrS2ERXymC5R9xtuVSNxX6Hf+KU1BNJ/GLoL/4apM+Ruwiplxh+P1r2B8cROWbHJj8YN1TUFyumvd2wsVlBv72GRNP/ZfxF+Hw7M+om3jO6PXq7TNfKZx0GpVOXfrIrKzgVgMaNZ/Tgcs2p9J217ONn+AE8a4J9XR8t38LpbtvZP5WB/3tv9QBtWT49Ru/h8s82/cLDttPNlbfXIhJT8dXuRzn7oRn9h1ixC1d+vyd2i5eOLyPsVfPQaP96qpptTDFElpH98D8u3ovvlI4mQwqkyEc7Eflm+xJLjLs9l3aZC78mtA3EIaYeh1TraHr9Q0fas/Fd3M5SvdMMDflEGwNuXdihsx3HiPu9JYYm/6Kk1t2kCw4XPtuHffIcYjxLG+n5+KrLTnOTyv+dO8hxr1FhhxF1sn83zbXJzK8fMNrLI87/LW0m9eKv2D0/QSmYePHzlUOo4kso8CnqfNooXezei6+KZUZfc9wcOVhgnzIr6aO8+ToEbJOau2dN1jPxQ/LZXJvfcyWd1LoHSO82XcTfxz5u9Abn1fWc/ExBl2tQrVKItuHaaa79gH6VbO80I1sfEG9N+18W6hxKgk+aIww0iq23WSm9mNcoTdRejq+KZa45ojhD8sH0F77ed8rKUZnaphg41c4VU//U1OlcJJJVOoKN/LaoFfqmKDzN+h+qJ4+8zFmdc1GYN1mPewFV5CNL8jGF2TjC7LxBdn4gmx8QTa+IBtfkI0vyMYXZOMLsvEF2fiCbHxBNr4gG1+QjS/Ixhdk4wuy8QXZ+IJsfEE2viAbX5CNL8jGF2TjC7LxBdn4gmx8QTa+IBtfkI0vyMYXZOML+h+cz/aPaliQKgAAAABJRU5ErkJggg==\" y=\"-233.633043\"/>\n   </g>\n  </g>\n  <g id=\"axes_11\">\n   <g clip-path=\"url(#p7e26f4e4cf)\">\n    <image height=\"95\" id=\"imagefb532a1459\" transform=\"scale(1 -1)translate(0 -95)\" width=\"95\" x=\"240.104348\" xlink:href=\"data:image/png;base64,\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\" y=\"-233.633043\"/>\n   </g>\n  </g>\n  <g id=\"axes_12\">\n   <g clip-path=\"url(#p289ba4de94)\">\n    <image height=\"95\" id=\"image07abe61b0a\" transform=\"scale(1 -1)translate(0 -95)\" width=\"95\" x=\"356.556522\" xlink:href=\"data:image/png;base64,\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\" y=\"-233.633043\"/>\n   </g>\n  </g>\n  <g id=\"axes_13\">\n   <g clip-path=\"url(#p0e6e2b94d4)\">\n    <image height=\"95\" id=\"image2d4f3d9d90\" transform=\"scale(1 -1)translate(0 -95)\" width=\"95\" x=\"7.2\" xlink:href=\"data:image/png;base64,\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\" y=\"-347.08\"/>\n   </g>\n  </g>\n  <g id=\"axes_14\">\n   <g clip-path=\"url(#pf5dd350e69)\">\n    <image height=\"95\" id=\"image0b2eedc346\" transform=\"scale(1 -1)translate(0 -95)\" width=\"95\" x=\"123.652174\" xlink:href=\"data:image/png;base64,\niVBORw0KGgoAAAANSUhEUgAAAF8AAABfCAYAAACOTBv1AAAFMklEQVR4nO3dzW8UZRzA8e8zs7PTbZe+0W6pxQpNgDaCvNn6djCo0YsHg2g8GKPxqCHx5l9gJNw4eJDEGBKM8WRSvWgCkQOlTQXKixUIQazyJnSh23Znd14eD0RbQ/pi6exv2j6f43a68+S702emz8626iW1R2OIsKQHsJKZ+IJMfEEmviATX5CJL8jEF2TiCzLxBZn4gkx8QSa+IBNfkIkvyMQXZOILMvEFmfiCTHxBJr4gE1+QiS/IxBdk4gsy8QWZ+IJMfEGpWJ/dslFOvLtYKO0HEIWiY4ivjFKorZ3ceqoWv1bFtpuFSI1D7uQ4DJwXfQFii69sm9s7a9n67jlebRyKazcL8tPYJo7Z3bSedoi8ZRgfZeFnFbvqh3k9OxbbbhaixjrDjw3dqGzNAye9qOxX7KchmRNyzB5L5cn23OYKm7CCqcfTY9DSX0APngMd/8cWVmT8Dsfh0OYvudrZQMjU+ej7/DZOBNvJnXbQfjn2cazI+K5y6Eo7dKVL/3l8IhrmWP0OrNosuuihy2V0EMzwLA9vRcafyUbnFs4zo1xxO3HzsKavADFOQSb+NF1pi6+2fsG1zav45k4PP09uo+mUHdvRH2t8K4CbQR3Xg9/i3M282EqRVQ7VVnrGbf6djggZqb1Mf/X2WMcUW3wdhjQOl/j8u5f5rGlXXLuZt1R1wNuPD/Bx0xCucqSHA8R55Ech6YGLbLxQCwlYYiivbeTwB0+y97lBXHu5xweiQoGoUIhzF/OWBvy7LVwNbDw9Tp2VnnUKqgT5Q7JCdGGc3PFH2O3vRTWUeWdLv/gUtGKWlMPRu6zu/ZWufX/QcRC+vrgTT8d3DT8fiT3yraoqVCYD1jxWRCONLhaJPG+WbULCfB7yeZyaDGVvFVEFlhBmk8j4ynXxnt/MjafTBJm5A6U8RcuAT+bI2dlfgIRJZHzLdbnZneajt76lp+rKnNufKbXxifUGHX0ZMPEfXpjRPOGOsM1159zWUSOU6yNobsS2LfRkkWhysgKjfDiJjf9/NNsRPTsvMbB3A04+R2tfsCSmoGURf7WV4UB7L3faFP3eOvb5e1h/3E38FJTY+LanOF9qY5U1NedbaJptTYOVwVZTV8m2ssjZNeRsKOg/Cas0qORfRScyflQqkRv02Z/aTVA9dbUTVUX07LjEgfZecnaN4AgXRyLj61KJzNGzdAxUg2VPfaGxjoEPN/BXm0XOnvn7l4pExgfunyw9D5TCymaxsjVETgptayyWx5+FS2z8f1iuy8SLXVx/1iZoCHhhyy802yZ+RahMhls7bD597TDdVdeos2zqrKU/38MSiA8QpWGdc5v2VFZ6KIsq+ddjy5iJL2hJTDuVUtI+V4MyN8IaBgvrSRXjPbGb+NMMlyPeP/ceE6dW444q1gwV0GF8922a+NNc9pvxjjfRcfDC/TvWSiV0jG+4JD++jkgVFEcmurgT/j7n5qeKG3DGFejof+/K1zZ2GaJ7BXOvJkBU9GjtK3Go/Aph1dzb2x60DnpExWSvaMISiK9LJZxjQ6w9kQY1j/dztY79BtfFkvj4ADoIFjWm8gP03TS9E+3U21PveB2914kzXrmliyURf7Hp0TyP/pBj/8ibRNNWR9Nj0HKygA78ioxDrdT/HKGcNMp+8HdM87GgCtB+GV2ZA3xGZnlBkIkvyMQXZOILMvEFmfiCTHxBJr4gE1+QiS/IxBdk4gsy8QWZ+IJMfEEmviATX5CJL8jEF2TiCzLxBZn4gkx8QSa+IBNfkIkvyMQX9DdcAJyKndvjlQAAAABJRU5ErkJggg==\" y=\"-347.08\"/>\n   </g>\n  </g>\n  <g id=\"axes_15\">\n   <g clip-path=\"url(#p6f61b92735)\">\n    <image height=\"95\" id=\"image13f4a8e500\" transform=\"scale(1 -1)translate(0 -95)\" width=\"95\" x=\"240.104348\" xlink:href=\"data:image/png;base64,\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\" y=\"-347.08\"/>\n   </g>\n  </g>\n  <g id=\"axes_16\">\n   <g clip-path=\"url(#p04a3c8d513)\">\n    <image height=\"95\" id=\"imagec02c26ad2d\" transform=\"scale(1 -1)translate(0 -95)\" width=\"95\" x=\"356.556522\" xlink:href=\"data:image/png;base64,\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\" y=\"-347.08\"/>\n   </g>\n  </g>\n </g>\n <defs>\n  <clipPath id=\"pab65fb4401\">\n   <rect height=\"94.53913\" width=\"94.53913\" x=\"7.2\" y=\"7.2\"/>\n  </clipPath>\n  <clipPath id=\"pc73dc63255\">\n   <rect height=\"94.53913\" width=\"94.53913\" x=\"123.652174\" y=\"7.2\"/>\n  </clipPath>\n  <clipPath id=\"pc90e9075cd\">\n   <rect height=\"94.53913\" width=\"94.53913\" x=\"240.104348\" y=\"7.2\"/>\n  </clipPath>\n  <clipPath id=\"pf89e0b14e8\">\n   <rect height=\"94.53913\" width=\"94.53913\" x=\"356.556522\" y=\"7.2\"/>\n  </clipPath>\n  <clipPath id=\"p8874b07f61\">\n   <rect height=\"94.53913\" width=\"94.53913\" x=\"7.2\" y=\"120.646957\"/>\n  </clipPath>\n  <clipPath id=\"p2b8e72a1e8\">\n   <rect height=\"94.53913\" width=\"94.53913\" x=\"123.652174\" y=\"120.646957\"/>\n  </clipPath>\n  <clipPath id=\"p81ccc7f750\">\n   <rect height=\"94.53913\" width=\"94.53913\" x=\"240.104348\" y=\"120.646957\"/>\n  </clipPath>\n  <clipPath id=\"p4df7d96c4b\">\n   <rect height=\"94.53913\" width=\"94.53913\" x=\"356.556522\" y=\"120.646957\"/>\n  </clipPath>\n  <clipPath id=\"p631dea16f1\">\n   <rect height=\"94.53913\" width=\"94.53913\" x=\"7.2\" y=\"234.093913\"/>\n  </clipPath>\n  <clipPath id=\"p408f21e58e\">\n   <rect height=\"94.53913\" width=\"94.53913\" x=\"123.652174\" y=\"234.093913\"/>\n  </clipPath>\n  <clipPath id=\"p7e26f4e4cf\">\n   <rect height=\"94.53913\" width=\"94.53913\" x=\"240.104348\" y=\"234.093913\"/>\n  </clipPath>\n  <clipPath id=\"p289ba4de94\">\n   <rect height=\"94.53913\" width=\"94.53913\" x=\"356.556522\" y=\"234.093913\"/>\n  </clipPath>\n  <clipPath id=\"p0e6e2b94d4\">\n   <rect height=\"94.53913\" width=\"94.53913\" x=\"7.2\" y=\"347.54087\"/>\n  </clipPath>\n  <clipPath id=\"pf5dd350e69\">\n   <rect height=\"94.53913\" width=\"94.53913\" x=\"123.652174\" y=\"347.54087\"/>\n  </clipPath>\n  <clipPath id=\"p6f61b92735\">\n   <rect height=\"94.53913\" width=\"94.53913\" x=\"240.104348\" y=\"347.54087\"/>\n  </clipPath>\n  <clipPath id=\"p04a3c8d513\">\n   <rect height=\"94.53913\" width=\"94.53913\" x=\"356.556522\" y=\"347.54087\"/>\n  </clipPath>\n </defs>\n</svg>\n",
      "image/png": "[encoded data removed]"
     },
     "metadata": {
      "needs_background": "light"
     }
    }
   ],
   "source": [
    "ncols = 4\n",
    "nrows = 4\n",
    "\n",
    "fig = plt.gcf()\n",
    "fig.set_size_inches(ncols*2, nrows*2)\n",
    "\n",
    "for i, img_path in enumerate(images[0:ncols*nrows]):\n",
    "    sp = plt.subplot(nrows, ncols, i + 1)\n",
    "    sp.axis('Off') # Disable axes display\n",
    "\n",
    "    img = mpimg.imread(directory+img_path)\n",
    "    plt.imshow(img)\n",
    "\n",
    "plt.show()"
   ]
  },
  {
   "cell_type": "markdown",
   "metadata": {},
   "source": [
    "### Define the data dictionary\n",
    "To identify the model predictions easilly, we create a list identifing each label. The list contains the real name of the letter instead of just its index in the alphabet order. We provide two versions of this list:\n",
    " * the first one shows letters written in latin with phonetic representation.\n",
    " * the second one shows the letters in arabic.\n",
    "\n",
    "For more details about arabic alphabet go to this [Wikipedia page](https://en.wikipedia.org/wiki/Arabic_alphabet). \n",
    " \n",
    "Our dataset is organized using the **Common hijāʾī order**."
   ]
  },
  {
   "cell_type": "code",
   "execution_count": 9,
   "metadata": {},
   "outputs": [],
   "source": [
    "arabic_characters = ['alef', 'beh', 'teh', 'theh', 'jeem', 'hah', 'khah', 'dal', 'thal',\n",
    "                    'reh', 'zain', 'seen', 'sheen', 'sad', 'dad', 'tah', 'zah', 'ain',\n",
    "                    'ghain', 'feh', 'qaf', 'kaf', 'lam', 'meem', 'noon', 'heh', 'waw', 'yeh']"
   ]
  },
  {
   "cell_type": "code",
   "execution_count": 10,
   "metadata": {},
   "outputs": [],
   "source": [
    "arabic_char_utf8 = (\"أ\",\"ب\",\"ت\",\"ث\",\"ج\",\"ح\",\"خ\",\"د\",\"ذ\",\"ر\",\"ز\",\"س\",\"ش\",\"ص\",\"ض\",\"ط\",\"ظ\",\"ع\",\"غ\",\"ف\",\"ق\",\"ك\",\"ل\",\"م\",\"ن\",\"ه\",\"و\",\"ي\")"
   ]
  },
  {
   "cell_type": "code",
   "execution_count": 11,
   "metadata": {},
   "outputs": [
    {
     "output_type": "execute_result",
     "data": {
      "text/plain": [
       "28"
      ]
     },
     "metadata": {},
     "execution_count": 11
    }
   ],
   "source": [
    "len(arabic_characters)"
   ]
  },
  {
   "cell_type": "code",
   "execution_count": 12,
   "metadata": {},
   "outputs": [
    {
     "output_type": "execute_result",
     "data": {
      "text/plain": [
       "'sheen'"
      ]
     },
     "metadata": {},
     "execution_count": 12
    }
   ],
   "source": [
    "arabic_characters[12]"
   ]
  },
  {
   "cell_type": "code",
   "execution_count": 13,
   "metadata": {},
   "outputs": [
    {
     "output_type": "execute_result",
     "data": {
      "text/plain": [
       "'ش'"
      ]
     },
     "metadata": {},
     "execution_count": 13
    }
   ],
   "source": [
    "arabic_char_utf8[12]"
   ]
  },
  {
   "source": [
    "### Tensorboard and Monitoring\n",
    "\n",
    "We create a folder to store tensorflow logs and display them in Tensorboard.\n",
    "\n",
    "Tensorboard is a tool that allows you to track model metrics. \n",
    "\n",
    "Jupyter and Google colab allows you to display Tensorboard inside the notebook through an extension."
   ],
   "cell_type": "markdown",
   "metadata": {}
  },
  {
   "cell_type": "code",
   "execution_count": 14,
   "metadata": {},
   "outputs": [],
   "source": [
    "logdir = os.path.join(\"./logs\", datetime.datetime.now().strftime(\"%Y%m%d-%H%M%S\"))"
   ]
  },
  {
   "cell_type": "code",
   "execution_count": 15,
   "metadata": {},
   "outputs": [],
   "source": [
    "%load_ext tensorboard"
   ]
  },
  {
   "cell_type": "code",
   "execution_count": 16,
   "metadata": {},
   "outputs": [
    {
     "output_type": "display_data",
     "data": {
      "text/plain": "<IPython.core.display.HTML object>",
      "text/html": "\n      <iframe id=\"tensorboard-frame-9729ffeb5c677aea\" width=\"100%\" height=\"800\" frameborder=\"0\">\n      </iframe>\n      <script>\n        (function() {\n          const frame = document.getElementById(\"tensorboard-frame-9729ffeb5c677aea\");\n          const url = new URL(\"/\", window.location);\n          const port = 6006;\n          if (port) {\n            url.port = port;\n          }\n          frame.src = url;\n        })();\n      </script>\n    "
     },
     "metadata": {}
    }
   ],
   "source": [
    "%tensorboard --logdir $logdir"
   ]
  },
  {
   "source": [
    "### Load the data\n",
    "\n",
    "We process the folder and load each files in it.\n",
    "\n",
    "We extract the label of each picture and convert the image to a rescaled matrix of 32x32x3."
   ],
   "cell_type": "markdown",
   "metadata": {}
  },
  {
   "cell_type": "code",
   "execution_count": 17,
   "metadata": {},
   "outputs": [],
   "source": [
    "batch_size = 32\n",
    "img_height = 32\n",
    "img_width = 32\n",
    "\n",
    "def get_dataset(dataset_dir):\n",
    "    \n",
    "    def process_filename(file_path):\n",
    "        label = tf.strings.regex_replace(input=file_path,pattern=r\".+_label_(\\d+)\\.png\", rewrite=r\"\\1\")\n",
    "        label = tf.strings.to_number(label, tf.int32)-1\n",
    "        #label = tf.one_hot(label, depth=29)\n",
    "        return label\n",
    "\n",
    "    def process_img(file_path):\n",
    "\n",
    "        img = tf.io.read_file(file_path)\n",
    "        img = tf.image.decode_png(img, channels=3)\n",
    "        img = tf.image.resize(img, size=(32, 32))\n",
    "        img = tf.image.convert_image_dtype(img, tf.float32)\n",
    "        img = tf.cast(img, tf.float32) / 255.0\n",
    "        return img\n",
    "    \n",
    "    data_dir = pathlib.Path(dataset_dir)\n",
    "    file_list = [str(path.absolute()) for path in Path(data_dir).glob(\"*.png\")]\n",
    "    files_ds = tf.data.Dataset.from_tensor_slices((file_list))\n",
    "    files_ds = files_ds.map(lambda x: (process_img(x), process_filename(x)))\n",
    "    return files_ds"
   ]
  },
  {
   "cell_type": "code",
   "execution_count": 18,
   "metadata": {},
   "outputs": [],
   "source": [
    "train_dataset_path = \"data/train_data\"\n",
    "test_dataset_path = \"data/test_data\"\n",
    "\n",
    "train_ds = get_dataset(train_dataset_path).shuffle(buffer_size=batch_size*10).batch(batch_size)\n",
    "valid_ds = get_dataset(test_dataset_path).batch(batch_size)"
   ]
  },
  {
   "source": [
    "### Define the neural network structure\n"
   ],
   "cell_type": "markdown",
   "metadata": {}
  },
  {
   "cell_type": "code",
   "execution_count": 19,
   "metadata": {},
   "outputs": [],
   "source": [
    "model = tf.keras.Sequential([\n",
    "    # Convert the 32x32x3 image into a flat vector of 32x32x3 = 3072 values\n",
    "    tf.keras.layers.Flatten(input_shape=(32, 32, 3), name='flatten_input'),\n",
    "    # Create a \"hidden\" layer with 256 neurons and apply the ReLU non-linearity\n",
    "    tf.keras.layers.Dense(256, activation=tf.nn.relu, name='input_to_hidden1'),\n",
    "    # Create another hidden layer with 128 neurons\n",
    "    tf.keras.layers.Dense(128, activation=tf.nn.relu, name='hidden1_to_hidden2'),\n",
    "    # Create an \"output layer\" with 28 neurons\n",
    "    tf.keras.layers.Dense(28, name='hidden_to_logits'),\n",
    "])"
   ]
  },
  {
   "source": [
    "### Display the model details"
   ],
   "cell_type": "markdown",
   "metadata": {}
  },
  {
   "cell_type": "code",
   "execution_count": 20,
   "metadata": {},
   "outputs": [
    {
     "output_type": "stream",
     "name": "stdout",
     "text": [
      "Model: \"sequential\"\n_________________________________________________________________\nLayer (type)                 Output Shape              Param #   \n=================================================================\nflatten_input (Flatten)      (None, 3072)              0         \n_________________________________________________________________\ninput_to_hidden1 (Dense)     (None, 256)               786688    \n_________________________________________________________________\nhidden1_to_hidden2 (Dense)   (None, 128)               32896     \n_________________________________________________________________\nhidden_to_logits (Dense)     (None, 28)                3612      \n=================================================================\nTotal params: 823,196\nTrainable params: 823,196\nNon-trainable params: 0\n_________________________________________________________________\n"
     ]
    }
   ],
   "source": [
    "model.summary()\n"
   ]
  },
  {
   "source": [
    "### Define the optimizer and the loss\n",
    "In this example, we use **SparseCategoricalCrossentropy** because the label is defined as a number.\n",
    "\n",
    "If we use a one hot vector instead, we should use **CategoricalCrossentropy**.\n"
   ],
   "cell_type": "markdown",
   "metadata": {}
  },
  {
   "cell_type": "code",
   "execution_count": 21,
   "metadata": {},
   "outputs": [],
   "source": [
    "optimizer = tf.keras.optimizers.Adam(lr=1E-3)\n",
    "loss_object = tf.keras.losses.SparseCategoricalCrossentropy(from_logits=True)"
   ]
  },
  {
   "cell_type": "code",
   "execution_count": 22,
   "metadata": {},
   "outputs": [],
   "source": [
    "train_loss = tf.keras.metrics.Mean(name='train_loss')\n",
    "train_accuracy = tf.keras.metrics.SparseCategoricalAccuracy(name='train_accuracy')"
   ]
  },
  {
   "cell_type": "code",
   "execution_count": 23,
   "metadata": {},
   "outputs": [],
   "source": [
    "valid_loss = tf.keras.metrics.Mean(name='valid_loss')\n",
    "valid_accuracy = tf.keras.metrics.SparseCategoricalAccuracy(name='valid_accuracy')"
   ]
  },
  {
   "source": [
    "### Prepare the training loop\n",
    "We define a train_step function that would update the newtork weights each time it is called.\n",
    "\n",
    "We also define a similar function to track the performance of the model on the validation set."
   ],
   "cell_type": "markdown",
   "metadata": {}
  },
  {
   "cell_type": "code",
   "execution_count": 24,
   "metadata": {},
   "outputs": [],
   "source": [
    "num_epochs = 50  # The number of epochs to run\n",
    "\n",
    "# Lists to store the loss and accuracy of every epoch\n",
    "train_losses = []\n",
    "train_accuracies = []\n",
    "valid_losses = []\n",
    "valid_accuracies = []"
   ]
  },
  {
   "cell_type": "code",
   "execution_count": 27,
   "metadata": {},
   "outputs": [],
   "source": [
    "# Defined a function to train the model using tf.GradientTape\n",
    "@tf.function\n",
    "def train_step(image, label):\n",
    "  # Initialise a GradientTape to track the operations\n",
    "  with tf.GradientTape() as tape:\n",
    "    # Compute the logits (un-normalised scores) of the current batch of examples\n",
    "    # using the neural network architecture we defined earlier\n",
    "    logits = model(image)\n",
    "    loss = loss_object(label, logits)\n",
    "  gradients = tape.gradient(loss, model.trainable_variables)\n",
    "  optimizer.apply_gradients(zip(gradients, model.trainable_variables))\n",
    "  \n",
    "  # Add current batch loss to our loss metric tracker - note the function call semantics\n",
    "  train_loss(loss)\n",
    "  train_accuracy(label, logits)"
   ]
  },
  {
   "cell_type": "code",
   "execution_count": 28,
   "metadata": {},
   "outputs": [],
   "source": [
    "@tf.function\n",
    "def valid_step(image, label):\n",
    "    valid_logits = model(image, training=False)\n",
    "    valid_accuracy(label, valid_logits)\n",
    "    loss = loss_object(label, valid_logits)\n",
    "    valid_loss(loss)"
   ]
  },
  {
   "source": [
    "### Create folders to collect statistics for Tensorboard"
   ],
   "cell_type": "markdown",
   "metadata": {}
  },
  {
   "cell_type": "code",
   "execution_count": null,
   "metadata": {},
   "outputs": [],
   "source": [
    "current_time = datetime.datetime.now().strftime(\"%Y%m%d-%H%M%S\")\n",
    "train_log_dir = 'logs/gradient_tape/' + current_time + '/train'\n",
    "valid_log_dir = 'logs/gradient_tape/' + current_time + '/valid'\n",
    "train_summary_writer = tf.summary.create_file_writer(train_log_dir)\n",
    "valid_summary_writer = tf.summary.create_file_writer(valid_log_dir)"
   ]
  },
  {
   "source": [
    "### Run the training loop"
   ],
   "cell_type": "markdown",
   "metadata": {}
  },
  {
   "cell_type": "code",
   "execution_count": null,
   "metadata": {},
   "outputs": [],
   "source": [
    "for epoch in range(num_epochs):\n",
    "  # Loop over our data pipeline\n",
    "  for image, label in train_ds:\n",
    "    train_step(image, label)\n",
    "\n",
    "  for image, label in valid_ds:\n",
    "    valid_step(image, label)\n",
    "\n",
    "  # Code specific to Tensorflow \n",
    "  with train_summary_writer.as_default():\n",
    "    tf.summary.scalar('loss', train_loss.result(), step=epoch)\n",
    "    tf.summary.scalar('accuracy', train_accuracy.result(), step=epoch)\n",
    "\n",
    "  with valid_summary_writer.as_default():\n",
    "    tf.summary.scalar('loss', valid_loss.result(), step=epoch)\n",
    "    tf.summary.scalar('accuracy', valid_accuracy.result(), step=epoch)\n",
    "\n",
    "  template = 'Epoch {:03d}, Train Loss: {:.3f}, Train Accuracy: {:.3%}, Valid Loss: {:.3f}, Valid Accuracy: {:.3%}'\n",
    "  print(template.format(epoch+1,\n",
    "                        train_loss.result(), \n",
    "                        train_accuracy.result(),\n",
    "                        valid_loss.result(),\n",
    "                        valid_accuracy.result(),\n",
    "                       ))\n",
    "  \n",
    "  train_losses.append(train_loss.result())\n",
    "  train_accuracies.append(train_accuracy.result())\n",
    "  valid_losses.append(valid_loss.result())\n",
    "  valid_accuracies.append(valid_accuracy.result())"
   ]
  },
  {
   "source": [
    "### Plot the loss and the accuracy "
   ],
   "cell_type": "markdown",
   "metadata": {}
  },
  {
   "cell_type": "code",
   "execution_count": null,
   "metadata": {},
   "outputs": [],
   "source": [
    "# Plot the loss for all epochs using Matplotlib\n",
    "plt.figure()\n",
    "plt.plot(range(num_epochs), train_losses)\n",
    "plt.plot(range(num_epochs), valid_losses)\n",
    "plt.title('Loss vs epochs')\n",
    "\n",
    "# Plot the accuracy for all epochs using Matplotlib\n",
    "plt.figure()\n",
    "plt.plot(range(num_epochs), train_accuracies)\n",
    "plt.plot(range(num_epochs), valid_accuracies)\n",
    "plt.title('Accuracy vs epochs')"
   ]
  },
  {
   "source": [
    "### Display predictions"
   ],
   "cell_type": "markdown",
   "metadata": {}
  },
  {
   "cell_type": "code",
   "execution_count": null,
   "metadata": {},
   "outputs": [],
   "source": [
    "images, labels = next(iter(valid_ds))\n",
    "_logits = model(images, training=False)\n",
    "predicted_labels = tf.argmax(_logits, axis=1, output_type=tf.int32)\n",
    "img_indexs = np.arange(images.numpy().shape[0])\n",
    "np.random.shuffle(img_indexs)\n",
    "\n",
    "plt.figure(figsize=(5,5))\n",
    "for i in range(25):\n",
    "    plt.subplot(5,5,i+1)\n",
    "    plt.xticks([])\n",
    "    plt.yticks([])\n",
    "    plt.grid(True)\n",
    "\n",
    "    img_index = img_indexs[i]\n",
    "    predicted_label = int(predicted_labels[img_index])\n",
    "\n",
    "    plt.imshow(images[img_index])\n",
    "\n",
    "    actual_label = int(labels[img_index].numpy())\n",
    "    plt.xlabel(\"\\n Actual: ({})\\n Predicted: ({})\".format(\n",
    "        arabic_char_utf8[actual_label-1],  arabic_char_utf8[predicted_label-1]\n",
    "    ))\n",
    "\n",
    "plt.tight_layout()\n",
    "plt.show()\n"
   ]
  }
 ],
 "metadata": {
  "kernelspec": {
   "name": "Python 3.7.9 64-bit ('cpu': conda)",
   "display_name": "Python 3.7.9 64-bit ('cpu': conda)",
   "metadata": {
    "interpreter": {
     "hash": "d1d680f72ae64f01464f2e9d3ebf9e791dc380d97f617e685d9a0838bfc59cff"
    }
   }
  },
  "language_info": {
   "codemirror_mode": {
    "name": "ipython",
    "version": 3
   },
   "file_extension": ".py",
   "mimetype": "text/x-python",
   "name": "python",
   "nbconvert_exporter": "python",
   "pygments_lexer": "ipython3",
   "version": "3.7.9-final"
  }
 },
 "nbformat": 4,
 "nbformat_minor": 4
}